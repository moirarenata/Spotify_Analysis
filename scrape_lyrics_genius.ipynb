{
 "cells": [
  {
   "cell_type": "code",
   "execution_count": 1,
   "metadata": {},
   "outputs": [],
   "source": [
    "import lyricsgenius"
   ]
  },
  {
   "cell_type": "code",
   "execution_count": 3,
   "metadata": {},
   "outputs": [],
   "source": [
    "CLIENT_ID = \"eEh1sJQRwkBXI8x-2NaX8StFTTYB0qlbr7bUJPmOtDC_iw4H3mDq4rnKYhqUbZpk\"\n",
    "CLIENT_SECRET = \"gn35o8jbiyX3oW607bYdO36D2fsV_rh2htJ3-2ZAm_NlnG2nwvuKAAyao1hzvXxF2SBLfPGAPWobn8aZ4yn0ew\"\n",
    "ACCESS_TOKEN = \"ue2NR8LXiQcWB8lx2mktYiwuG67Zyt7xkPYaz1W99_l8_2w9eBawbJb8Os_d-eiv\""
   ]
  },
  {
   "cell_type": "code",
   "execution_count": 15,
   "metadata": {},
   "outputs": [],
   "source": [
    "genius = lyricsgenius.Genius(ACCESS_TOKEN)  "
   ]
  },
  {
   "cell_type": "code",
   "execution_count": null,
   "metadata": {},
   "outputs": [
    {
     "name": "stdout",
     "output_type": "stream",
     "text": [
      "Searching for songs by Noah Kahan...\n",
      "\n",
      "Song 1: \"Stick Season\"\n",
      "Song 2: \"You’re Gonna Go Far\"\n",
      "Song 3: \"Call Your Mom\"\n",
      "Song 4: \"Orange Juice\"\n",
      "Song 5: \"Dial Drunk\"\n",
      "Song 6: \"Forever\"\n",
      "Song 7: \"Homesick\"\n",
      "Song 8: \"All My Love\"\n",
      "Song 9: \"Your Needs, My Needs\"\n",
      "Song 10: \"No Complaints\"\n",
      "Song 11: \"False Confidence\"\n",
      "Song 12: \"Everywhere, Everything\"\n",
      "Song 13: \"Northern Attitude\"\n",
      "Song 14: \"The View Between Villages (Extended)\"\n",
      "Song 15: \"Hurt Somebody\"\n",
      "Song 16: \"Paul Revere\"\n",
      "Song 17: \"New Perspective\"\n",
      "Song 18: \"Growing Sideways\"\n",
      "Song 19: \"She Calls Me Back\"\n",
      "Song 20: \"Strawberry Wine\"\n",
      "Song 21: \"The View Between Villages\"\n",
      "Song 22: \"Pain Is Cold Water\"\n",
      "Song 23: \"Young Blood\"\n",
      "Song 24: \"Maine\"\n",
      "Song 25: \"Come Over\"\n",
      "Song 26: \"The Great Divide\"\n",
      "Song 27: \"Carlo’s Song\"\n",
      "Song 28: \"Mess\"\n",
      "Song 29: \"Passenger\"\n",
      "Song 30: \"Halloween\"\n",
      "Song 31: \"Sink\"\n",
      "Song 32: \"Anyway\"\n",
      "Song 33: \"Glue Myself Shut\"\n",
      "Song 34: \"Please\"\n",
      "Song 35: \"Still\"\n",
      "Song 36: \"Godlight\"\n",
      "Song 37: \"Catastrophize\"\n",
      "Song 38: \"Part of Me\"\n",
      "Song 39: \"Howling\"\n",
      "Song 40: \"Hold it Down\"\n",
      "Song 41: \"Busyhead\"\n",
      "Song 42: \"If We Were Vampires (Spotify Singles)\"\n",
      "Song 43: \"Fine\"\n",
      "Song 44: \"A Troubled Mind\"\n",
      "Song 45: \"Hallelujah\"\n",
      "Song 46: \"Pride\"\n",
      "Song 47: \"Come Down\"\n",
      "Song 48: \"Animal\"\n",
      "Song 49: \"Close Behind\"\n",
      "Song 50: \"Shape Of My Shadow\"\n",
      "Song 51: \"Save Me\"\n",
      "Song 52: \"Cynic\"\n",
      "Song 53: \"Fear of Water\"\n",
      "Song 54: \"Tidal\"\n",
      "Song 55: \"Bad Luck\"\n",
      "Song 56: \"Someone Like You\"\n",
      "Song 57: \"Doors\"\n",
      "Song 58: \"Caves\"\n",
      "Song 59: \"I Belong to You*\"\n",
      "Song 60: \"Hollow\"\n",
      "Song 61: \"Pain Is Cold Water (Live From Fenway Park)\"\n",
      "Song 62: \"Bury Me\"\n",
      "Song 63: \"Best Friend*\"\n",
      "Song 64: \"Emily*\"\n",
      "Song 65: \"Spoiled\"\n",
      "Song 66: \"Way Up High*\"\n",
      "Song 67: \"Wreckage Of You*\"\n",
      "Song 68: \"All Them Horses*\"\n",
      "Song 69: \"Pull Your Weight\"\n",
      "Song 70: \"She Calls Me Back (Demo)\"\n",
      "Song 71: \"2010\"\n",
      "Song 72: \"If It Helps You\"\n",
      "Song 73: \"Alone Together\"\n",
      "Song 74: \"So Proud*\"\n",
      "Song 75: \"Lacy\"\n",
      "Song 76: \"Orange Juice - Spotify Singles\"\n",
      "Song 77: \"How to Fall*\"\n",
      "Song 78: \"Taking Off*\"\n",
      "Song 79: \"Rocks in My Shoes [Unreleased]\"\n",
      "Song 80: \"Maine (Live from Fenway Park)\"\n",
      "Song 81: \"Hurt Somebody (Alex Adair Remix)\"\n",
      "Song 82: \"Hurt Somebody (Matoma Remix)\"\n",
      "Song 83: \"Bored Of My Bullshit\"\n",
      "Song 84: \"All My Love (Live from Fenway Park)\"\n",
      "Song 85: \"Men’s Room*\"\n",
      "Song 86: \"New Perspective (Live from Fenway Park)\"\n",
      "Song 87: \"Drunk In Room 10*\"\n",
      "Song 88: \"Forever (Live from Fenway Park)\"\n",
      "Song 89: \"You’re Gonna Be Fine*\"\n",
      "Song 90: \"Mess (Live From Fenway Park)\"\n",
      "Song 91: \"Porch Light\"\n",
      "Song 92: \"Everywhere, Everything (Live From Fenway Park)\"\n",
      "Song 93: \"Stick Season (Live From Fenway Park)\"\n",
      "Song 94: \"Tourist Trap\"\n",
      "Song 95: \"Your Needs, My Needs (Live from Fenway Park)\"\n",
      "Song 96: \"Young Blood (Acoustic)\"\n",
      "Song 97: \"Growing Sideways (Live from Fenway Park)\"\n",
      "Song 98: \"Orange Juice (Live From Fenway Park)\"\n",
      "Song 99: \"You’re Gonna Go Far (Live from Fenway Park)\"\n",
      "Song 100: \"The View Between Villages (Live From Fenway Park)\"\n",
      "Song 101: \"Dial Drunk (Live from Fenway Park)\"\n",
      "Song 102: \"Brick Wall*\"\n",
      "Song 103: \"Paul Revere (Live from Fenway Park)\"\n",
      "Song 104: \"Angry Yet*\"\n",
      "Song 105: \"Homesick (Live from Fenway Park)\"\n",
      "Song 106: \"Passenger - Live\"\n",
      "Song 107: \"Pain Eater*\"\n",
      "Song 108: \"Northern Attitude (Live From Fenway Park)\"\n",
      "Song 109: \"​complex\"\n",
      "Song 110: \"Part of Me (BUNT. Remix)\"\n",
      "Song 111: \"She Calls Me Back (Live from Fenway Park)\"\n",
      "Song 112: \"Pride (Acoustic)\"\n",
      "Song 113: \"Remember Everything\"\n",
      "Song 114: \"Everybody Knows*\"\n",
      "Song 115: \"Freedom\"\n",
      "Song 116: \"Hurt Somebody (Dewei & Septacon Remix)\"\n",
      "\"Stick Season / Pompeii (Audien Remix) / Electric Love (TWINSICK Remix) [Mixed]\" is not valid. Skipping.\n",
      "Song 117: \"Breathe*\"\n",
      "\"Northern Altitude (Apple Music Session)\" is not valid. Skipping.\n",
      "Song 118: \"Stick Season (Mixed)\"\n",
      "Song 119: \"Fine Line\"\n",
      "Done. Found 119 songs.\n"
     ]
    }
   ],
   "source": [
    "artist = genius.search_artist(\"Noah Kahan\")"
   ]
  },
  {
   "cell_type": "code",
   "execution_count": null,
   "metadata": {},
   "outputs": [
    {
     "name": "stdout",
     "output_type": "stream",
     "text": [
      "Wrote Lyrics_NoahKahan.json.\n"
     ]
    }
   ],
   "source": [
    "artist.save_lyrics()"
   ]
  }
 ],
 "metadata": {
  "kernelspec": {
   "display_name": "base",
   "language": "python",
   "name": "python3"
  },
  "language_info": {
   "codemirror_mode": {
    "name": "ipython",
    "version": 3
   },
   "file_extension": ".py",
   "mimetype": "text/x-python",
   "name": "python",
   "nbconvert_exporter": "python",
   "pygments_lexer": "ipython3",
   "version": "3.10.9"
  }
 },
 "nbformat": 4,
 "nbformat_minor": 2
}

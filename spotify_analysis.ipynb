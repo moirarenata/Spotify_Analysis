{
 "cells": [
  {
   "cell_type": "markdown",
   "metadata": {},
   "source": [
    "### Packages and Libraries"
   ]
  },
  {
   "cell_type": "code",
   "execution_count": 1,
   "metadata": {},
   "outputs": [],
   "source": [
    "import json\n",
    "import pandas as pd\n",
    "import matplotlib.pyplot as plt\n",
    "import seaborn as sns\n",
    "\n",
    "import spotipy\n",
    "from spotipy.oauth2 import SpotifyClientCredentials\n"
   ]
  },
  {
   "cell_type": "markdown",
   "metadata": {},
   "source": [
    "### Constants"
   ]
  },
  {
   "cell_type": "code",
   "execution_count": null,
   "metadata": {},
   "outputs": [],
   "source": [
    "file_paths = ['data/StreamingHistory_music_0.json', 'data/StreamingHistory_music_1.json', 'data/StreamingHistory_music_2.json', 'data/StreamingHistory_music_3.json']\n",
    "\n",
    "manual_genres = {\n",
    "    \"Ben Platt\": \"pop/folk\",\n",
    "    \"Delaney Bailey\": \"folk/indie\",\n",
    "    \"Laufey\": \"jazz/pop\",\n",
    "    \"Libianca\": \"r&b/afrobeats\",\n",
    "    \"Meryl Streep\": \"indie\",\n",
    "    \"SZA\": \"r&b\",\n",
    "    \"Steve Lacy\": \"r&b/indie\"\n",
    "}\n",
    "\n",
    "CLIENT_ID = \"\"\n",
    "CLIENT_SECRET = \"\"\n",
    "\n",
    "sp = spotipy.Spotify(auth_manager=SpotifyClientCredentials(\n",
    "    client_id=CLIENT_ID,\n",
    "    client_secret=CLIENT_SECRET\n",
    "))\n",
    "\n"
   ]
  },
  {
   "cell_type": "markdown",
   "metadata": {},
   "source": [
    "### Functions"
   ]
  },
  {
   "cell_type": "code",
   "execution_count": 2,
   "metadata": {},
   "outputs": [],
   "source": [
    "def indonesia_genre(genres):\n",
    "    for genre in genres:\n",
    "        if 'indonesia' in genre:\n",
    "            return 'yes' \n",
    "    return 'no'  \n",
    "\n",
    "def simplify_genre(genres):\n",
    "    simplified_genres = set() \n",
    "\n",
    "    for genre in genres:\n",
    "        if 'pop' in genre:\n",
    "            simplified_genres.add('pop')\n",
    "        if 'jazz' in genre:\n",
    "            simplified_genres.add('jazz')\n",
    "        if 'rock' in genre:\n",
    "            simplified_genres.add('rock')\n",
    "        if 'hip hop' in genre or 'rap' in genre:\n",
    "            simplified_genres.add('hip hop/rap')\n",
    "        if 'indie' in genre:\n",
    "            simplified_genres.add('indie')\n",
    "        if 'folk' in genre:\n",
    "            simplified_genres.add('folk')\n",
    "        if 'r&b' in genre:\n",
    "            simplified_genres.add('r&b')\n",
    "        if 'country' in genre:\n",
    "            simplified_genres.add('country')\n",
    "        if 'worship' in genre:\n",
    "            simplified_genres.add('worship')\n",
    "        if 'drill' in genre:\n",
    "            simplified_genres.add('drill')\n",
    "        if 'alt z' in genre:\n",
    "            simplified_genres.add('pop')\n",
    "        if 'house' in genre:\n",
    "            simplified_genres.add('house')\n",
    "\n",
    "    if not simplified_genres:\n",
    "        simplified_genres.add('other')\n",
    "\n",
    "    return '/'.join(sorted(simplified_genres)) \n"
   ]
  },
  {
   "cell_type": "markdown",
   "metadata": {},
   "source": [
    "### Read Spotify JSON Files "
   ]
  },
  {
   "cell_type": "code",
   "execution_count": null,
   "metadata": {},
   "outputs": [],
   "source": [
    "all_data = []\n",
    "\n",
    "for file_path in file_paths:\n",
    "    with open(file_path, 'r') as f:\n",
    "        data = json.load(f)  \n",
    "        all_data.extend(data)  \n",
    "\n",
    "df = pd.DataFrame(all_data)\n",
    "\n",
    "df.head()"
   ]
  },
  {
   "cell_type": "markdown",
   "metadata": {},
   "source": [
    "### Data Cleaning"
   ]
  },
  {
   "cell_type": "code",
   "execution_count": null,
   "metadata": {},
   "outputs": [],
   "source": [
    "df['endTime'] = pd.to_datetime(df['endTime']) \n",
    "df['endTime'] = df['endTime'].dt.tz_localize('UTC')\n",
    "df['endTime'] = df['endTime'].dt.tz_convert('America/Los_Angeles')\n",
    "df['year'] = df['endTime'].dt.year\n",
    "df_2024 = df[df['year'] == 2024].copy()\n",
    "\n",
    "df_2024.head()"
   ]
  },
  {
   "cell_type": "markdown",
   "metadata": {},
   "source": [
    "### Exploratory Analysis"
   ]
  },
  {
   "cell_type": "code",
   "execution_count": null,
   "metadata": {},
   "outputs": [],
   "source": [
    "top_artists_by_count = (\n",
    "    df_2024\n",
    "    .groupby('artistName', as_index=False)\n",
    "    .size() \n",
    "    .rename(columns={'size': 'playCount'})  \n",
    "    .sort_values(by='playCount', ascending=False) \n",
    ")\n",
    "\n",
    "top_artists_by_count.head(10)\n"
   ]
  },
  {
   "cell_type": "code",
   "execution_count": null,
   "metadata": {},
   "outputs": [],
   "source": [
    "df_2024['hour'] = df_2024['endTime'].dt.hour\n",
    "\n",
    "hourly_listening = df_2024.groupby('hour')['msPlayed'].sum()\n",
    "hourly_listening.to_csv(\"data_viz/hourly_listening.csv\")\n",
    "\n",
    "plt.figure(figsize=(10, 6))\n",
    "plt.bar(hourly_listening.index, hourly_listening.values)\n",
    "plt.xlabel('Hour of the Day')\n",
    "plt.ylabel('Total Listening Time (ms)')\n",
    "plt.title('Hourly Listening Trends')\n",
    "plt.xticks(range(24))  \n",
    "plt.grid(axis='y', linestyle='--', alpha=0.7)\n",
    "plt.tight_layout()\n",
    "\n",
    "plt.show()"
   ]
  },
  {
   "cell_type": "code",
   "execution_count": null,
   "metadata": {},
   "outputs": [],
   "source": [
    "df_artists_5 = top_artists_by_count.head(5)['artistName']\n",
    "df_top_5 = df_2024[df_2024['artistName'].isin(df_artists_5)]\n",
    "df_top_5['year_month'] = df_top_5['endTime'].dt.to_period('M')\n",
    "\n",
    "monthly_trends = (\n",
    "    df_top_5.groupby(['artistName', 'year_month'])['msPlayed']\n",
    "    .sum()\n",
    "    .reset_index()\n",
    ")\n",
    "monthly_trends.to_csv(\"data_viz/monthly_trend_top_5.csv\")\n",
    "\n",
    "plt.figure(figsize=(12, 6))\n",
    "\n",
    "top_5_artists = df_top_5['artistName'].unique()\n",
    "\n",
    "plt.figure(figsize=(12, 6))\n",
    "for artist in top_5_artists:\n",
    "    artist_data = monthly_trends[monthly_trends['artistName'] == artist]\n",
    "    plt.plot(\n",
    "        artist_data['year_month'].astype(str),  \n",
    "        artist_data['msPlayed'],\n",
    "        marker='o',\n",
    "        label=artist\n",
    "    )\n",
    "\n",
    "plt.xlabel('Month')\n",
    "plt.ylabel('Total Listening Time (ms)')\n",
    "plt.title('Monthly Listening Trends for Top 5 Artists')\n",
    "plt.xticks(rotation=45)\n",
    "plt.legend(title=\"Artist\")\n",
    "plt.grid(axis='y', linestyle='--', alpha=0.7)\n",
    "plt.tight_layout()\n",
    "plt.show()"
   ]
  },
  {
   "cell_type": "code",
   "execution_count": 23,
   "metadata": {},
   "outputs": [],
   "source": [
    "artists_more_20 = (\n",
    "    df_2024\n",
    "    .groupby('artistName', as_index=False)\n",
    "    .size()  # Count occurrences\n",
    "    .rename(columns={'size': 'playCount'}) \n",
    ")\n",
    "\n",
    "artists_more_20 = artists_more_20[artists_more_20['playCount'] > 20]\n",
    "list_artists_genre = artists_more_20['artistName'].tolist()"
   ]
  },
  {
   "cell_type": "markdown",
   "metadata": {},
   "source": [
    "### Use Spotify API for Genre"
   ]
  },
  {
   "cell_type": "code",
   "execution_count": 25,
   "metadata": {},
   "outputs": [],
   "source": [
    "artist_genre_data = []\n",
    "\n",
    "for artist_name in list_artists_genre:\n",
    "    try:\n",
    "        results = sp.search(q=f'artist:{artist_name}', type='artist', limit=1)\n",
    "        if results['artists']['items']:\n",
    "            artist_info = results['artists']['items'][0]\n",
    "            genres = artist_info['genres']\n",
    "            artist_genre_data.append({'artistName': artist_name, 'genres': genres})\n",
    "        else:\n",
    "            artist_genre_data.append({'artistName': artist_name, 'genres': None})\n",
    "    except Exception as e:\n",
    "        print(f\"Error fetching data for artist {artist_name}: {e}\")\n",
    "        artist_genre_data.append({'artistName': artist_name, 'genres': None})\n",
    "\n",
    "df_artist_genres = pd.DataFrame(artist_genre_data)\n",
    "\n",
    "df_artist_genres = df_artist_genres[~df_artist_genres['genres'].apply(lambda x: isinstance(x, list) and len(x) == 0)]\n",
    "\n",
    "df_artist_genres.reset_index(drop=True, inplace=True)\n",
    "df_artist_genres.head()"
   ]
  },
  {
   "cell_type": "code",
   "execution_count": null,
   "metadata": {},
   "outputs": [],
   "source": [
    "# add columns \n",
    "df_artist_genres['indonesian_artist'] = df_artist_genres['genres'].apply(indonesia_genre)\n",
    "df_artist_genres['simplified_genres'] = df_artist_genres['genres'].apply(simplify_genre)\n",
    "df_artist_genres.head()"
   ]
  },
  {
   "cell_type": "code",
   "execution_count": null,
   "metadata": {},
   "outputs": [],
   "source": [
    "# some genres to assign manually\n",
    "\n",
    "\n",
    "df_artist_genres['simplified_genres'] = df_artist_genres.apply(\n",
    "    lambda row: manual_genres[row['artistName']] if row['artistName'] in manual_genres else row['simplified_genres'],\n",
    "    axis=1\n",
    ")\n",
    "\n",
    "df_artist_genres.to_csv(\"data_viz/df_artist_genre.csv\")"
   ]
  },
  {
   "cell_type": "code",
   "execution_count": null,
   "metadata": {},
   "outputs": [],
   "source": [
    "genre_counts = df_artist_genres['simplified_genres'].value_counts().head(10)\n",
    "genre_counts.to_csv(\"data_viz/df_artist_genre_count.csv\")\n",
    "genre_counts"
   ]
  },
  {
   "cell_type": "code",
   "execution_count": null,
   "metadata": {},
   "outputs": [],
   "source": [
    "plt.figure(figsize=(12, 6))\n",
    "genre_counts.plot(kind='bar', color='skyblue', edgecolor='black')\n",
    "plt.title('Count of Genres', fontsize=16)\n",
    "plt.xlabel('Genre', fontsize=12)\n",
    "plt.ylabel('Count', fontsize=12)\n",
    "plt.xticks(rotation=45, ha='right', fontsize=10)\n",
    "plt.tight_layout()\n",
    "\n",
    "plt.show()\n"
   ]
  },
  {
   "cell_type": "code",
   "execution_count": null,
   "metadata": {},
   "outputs": [],
   "source": [
    "genre_counts = df_artist_genres['indonesian_artist'].value_counts().head(10)\n",
    "\n",
    "plt.figure(figsize=(8, 8))\n",
    "genre_counts.plot(\n",
    "    kind='pie',\n",
    "    autopct='%1.1f%%', \n",
    "    colors=plt.cm.Paired.colors,  \n",
    "    ylabel='', \n",
    "    title='Indonesian Artist?'\n",
    ")\n",
    "plt.tight_layout()\n",
    "plt.show()"
   ]
  }
 ],
 "metadata": {
  "kernelspec": {
   "display_name": "base",
   "language": "python",
   "name": "python3"
  },
  "language_info": {
   "codemirror_mode": {
    "name": "ipython",
    "version": 3
   },
   "file_extension": ".py",
   "mimetype": "text/x-python",
   "name": "python",
   "nbconvert_exporter": "python",
   "pygments_lexer": "ipython3",
   "version": "3.10.9"
  }
 },
 "nbformat": 4,
 "nbformat_minor": 2
}

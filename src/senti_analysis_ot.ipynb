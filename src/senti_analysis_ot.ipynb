{
 "cells": [
  {
   "cell_type": "markdown",
   "metadata": {},
   "source": [
    "### Packages"
   ]
  },
  {
   "cell_type": "code",
   "execution_count": null,
   "metadata": {},
   "outputs": [],
   "source": [
    "import pandas as pd\n",
    "import matplotlib.pyplot as plt\n",
    "import seaborn as sns\n",
    "from textblob import TextBlob\n",
    "import nltk\n",
    "import numpy as np\n",
    "\n",
    "# nltk.download('punkt')\n",
    "# nltk.download('vader_lexicon')\n"
   ]
  },
  {
   "cell_type": "markdown",
   "metadata": {},
   "source": [
    "### Data Loading"
   ]
  },
  {
   "cell_type": "code",
   "execution_count": null,
   "metadata": {},
   "outputs": [],
   "source": [
    "df = pd.read_csv(\"data/Lyrics_Noah_Kahan.csv\")\n",
    "df[\"release_date\"] = pd.to_datetime(df[\"release_date\"])\n",
    "df[\"year\"] = df[\"release_date\"].dt.year\n",
    "df.head()\n"
   ]
  },
  {
   "cell_type": "markdown",
   "metadata": {},
   "source": [
    "### NLTK Analysis"
   ]
  },
  {
   "cell_type": "code",
   "execution_count": null,
   "metadata": {},
   "outputs": [],
   "source": [
    "def get_sentiment(text):\n",
    "    return TextBlob(text).sentiment.polarity\n",
    "\n",
    "df['sentiment'] = df['cleaned_lyrics'].apply(get_sentiment)\n",
    "df.head()"
   ]
  },
  {
   "cell_type": "code",
   "execution_count": null,
   "metadata": {},
   "outputs": [],
   "source": [
    "df[\"year\"] = df[\"year\"].fillna(\"Unreleased\")\n",
    "df[\"year\"] = df[\"year\"].astype(str)\n",
    "\n",
    "df = df.sort_values(by=[\"year\", \"sentiment\"], ascending=[True, True])\n",
    "\n",
    "# Increase figure size\n",
    "plt.figure(figsize=(15, 12))\n",
    "\n",
    "palette = sns.color_palette(\"husl\", n_colors=df[\"year\"].nunique())\n",
    "\n",
    "sns.scatterplot(x=df[\"sentiment\"], y=np.arange(len(df)), hue=df[\"year\"], palette=palette, s=100)\n",
    "\n",
    "for i, (song, year) in enumerate(zip(df[\"title\"], df[\"year\"])):\n",
    "    plt.text(df[\"sentiment\"].iloc[i], i, f\"{song}\", fontsize=8, ha=\"right\", va=\"center\")\n",
    "\n",
    "# Titles and labels\n",
    "plt.xlabel(\"Sentiment Score\", fontsize=8)\n",
    "plt.ylabel(\"Songs\", fontsize=8)\n",
    "plt.title(\"Sentiment Analysis of Noah Kahan's Songs by Year\", fontsize=14)\n",
    "\n",
    "plt.axvline(0, color=\"gray\", linestyle=\"dashed\")\n",
    "\n",
    "plt.grid(axis=\"x\", linestyle=\"--\", alpha=0.6)\n",
    "plt.yticks([])  \n",
    "plt.legend(title=\"Year\", loc=\"best\")  \n",
    "\n",
    "plt.show()\n"
   ]
  },
  {
   "cell_type": "markdown",
   "metadata": {},
   "source": [
    "### BERT Analysis"
   ]
  },
  {
   "cell_type": "code",
   "execution_count": null,
   "metadata": {},
   "outputs": [],
   "source": [
    "# could not run BERT locally, ran it on Google Colab, but this was the code used. \n",
    "\n",
    "# import torch\n",
    "# from transformers import pipeline\n",
    "\n",
    "df_bert = pd.read_csv(\"data/Lyrics_Noah_Kahan_Sentiment_BERT.csv\")\n",
    "df_bert.head()\n",
    "\n",
    "# sentiment_pipeline = pipeline(\"sentiment-analysis\", model=\"distilbert-base-uncased-finetuned-sst-2-english\")\n",
    "\n",
    "# def get_bert_sentiment(text):\n",
    "#     if isinstance(text, str):  # Ensure text is valid\n",
    "#         result = sentiment_pipeline(text[:512])[0]  # BERT has a 512-token limit\n",
    "#         score = result['score'] if result['label'] == \"POSITIVE\" else -result['score']\n",
    "#         return score\n",
    "#     return None  # Return None for missing lyrics\n",
    "\n",
    "# # Apply sentiment analysis to the dataset\n",
    "# df[\"sentiment_score\"] = df[\"lyrics\"].apply(get_bert_sentiment)\n"
   ]
  },
  {
   "cell_type": "code",
   "execution_count": null,
   "metadata": {},
   "outputs": [],
   "source": [
    "df_bert[\"release_date\"] = pd.to_datetime(df_bert[\"release_date\"])\n",
    "df_bert[\"year\"] = df_bert[\"release_date\"].dt.year\n",
    "df_bert[\"year\"] = df_bert[\"year\"].fillna(\"Unreleased\")\n",
    "df_bert[\"year\"] = df_bert[\"year\"].astype(str)\n",
    "\n",
    "df_bert = df_bert.sort_values(by=[\"year\", \"sentiment_score\"], ascending=[True, True])\n",
    "\n",
    "# Increase figure size\n",
    "plt.figure(figsize=(15, 12))\n",
    "\n",
    "palette = sns.color_palette(\"husl\", n_colors=df_bert[\"year\"].nunique())\n",
    "\n",
    "df_bert_negative = df_bert[df_bert['sentiment_score'] < 0]\n",
    "sns.scatterplot(x=df_bert_negative[\"sentiment_score\"], y=np.arange(len(df_bert_negative)), hue=df_bert_negative[\"year\"], palette=palette, s=100, legend = False) \n",
    "\n",
    "for i, (song, year) in enumerate(zip(df_bert_negative[\"title\"], df_bert_negative[\"year\"])):\n",
    "    plt.text(df_bert_negative[\"sentiment_score\"].iloc[i], i, f\"{song}\", fontsize=8, ha=\"right\", va=\"center\")\n",
    "\n",
    "# Titles and labels\n",
    "plt.xlabel(\"Sentiment Score\", fontsize=8)\n",
    "plt.ylabel(\"Songs\", fontsize=8)\n",
    "plt.title(\"Negative Sentiments\", fontsize=14)\n",
    "plt.xlim([-1.1, -0.6])\n",
    "\n",
    "plt.axvline(0, color=\"gray\", linestyle=\"dashed\")\n",
    "plt.grid(axis=\"x\", linestyle=\"--\", alpha=0.6)\n",
    "plt.yticks([])  \n",
    "\n",
    "plt.show()\n"
   ]
  },
  {
   "cell_type": "code",
   "execution_count": null,
   "metadata": {},
   "outputs": [],
   "source": [
    "plt.figure(figsize=(15, 12))\n",
    "\n",
    "palette = sns.color_palette(\"husl\", n_colors=df_bert[\"year\"].nunique())\n",
    "\n",
    "df_bert_positive = df_bert[df_bert['sentiment_score'] > 0]\n",
    "sns.scatterplot(x=df_bert_positive[\"sentiment_score\"], y=np.arange(len(df_bert_positive)), hue=df_bert_positive[\"year\"], palette=palette, s=100)\n",
    "\n",
    "for i, (song, year) in enumerate(zip(df_bert_positive[\"title\"], df_bert_positive[\"year\"])):\n",
    "    plt.text(df_bert_positive[\"sentiment_score\"].iloc[i], i, f\"{song}\", fontsize=8, ha=\"right\", va=\"center\")\n",
    "\n",
    "# Titles and labels\n",
    "plt.xlabel(\"Sentiment Score\", fontsize=8)\n",
    "plt.ylabel(\"Songs\", fontsize=8)\n",
    "plt.title(\"Sentiment Analysis of Noah Kahan's Songs by Year\", fontsize=14)\n",
    "plt.xlim([0.6,1])\n",
    "\n",
    "plt.axvline(0, color=\"gray\", linestyle=\"dashed\")\n",
    "plt.grid(axis=\"x\", linestyle=\"--\", alpha=0.6)\n",
    "plt.yticks([])  \n",
    "plt.legend(title=\"Year\", loc=\"best\")  \n",
    "\n",
    "plt.show()"
   ]
  },
  {
   "cell_type": "markdown",
   "metadata": {},
   "source": [
    "### Compare results of BERT and Normal "
   ]
  },
  {
   "cell_type": "code",
   "execution_count": null,
   "metadata": {},
   "outputs": [],
   "source": [
    "df_bert[\"sentiment_class\"] = np.where(df_bert[\"sentiment_score\"] > 0, \"Positive\", \"Negative\")\n",
    "df[\"sentiment_class\"] = np.where(df[\"sentiment\"] > 0, \"Positive\", \"Negative\")"
   ]
  },
  {
   "cell_type": "code",
   "execution_count": null,
   "metadata": {},
   "outputs": [],
   "source": [
    "df_comparison = df.merge(df_bert, on=\"title\", suffixes=(\"_textblob\", \"_bert\"))\n",
    "\n",
    "df_mismatched = df_comparison[df_comparison[\"sentiment_class_textblob\"] != df_comparison[\"sentiment_class_bert\"]]\n",
    "\n",
    "print(df_mismatched[[\"title\", \"sentiment_class_textblob\", \"sentiment_class_bert\"]])"
   ]
  }
 ],
 "metadata": {
  "kernelspec": {
   "display_name": "base",
   "language": "python",
   "name": "python3"
  },
  "language_info": {
   "codemirror_mode": {
    "name": "ipython",
    "version": 3
   },
   "file_extension": ".py",
   "mimetype": "text/x-python",
   "name": "python",
   "nbconvert_exporter": "python",
   "pygments_lexer": "ipython3",
   "version": "3.10.9"
  }
 },
 "nbformat": 4,
 "nbformat_minor": 2
}
